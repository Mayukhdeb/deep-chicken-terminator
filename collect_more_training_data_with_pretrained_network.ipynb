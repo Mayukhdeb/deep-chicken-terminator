{
 "cells": [
  {
   "cell_type": "code",
   "execution_count": 17,
   "metadata": {},
   "outputs": [],
   "source": [
    "import numpy as np\n",
    "import torch\n",
    "import torch.nn as nn      \n",
    "import torch.nn.functional as F\n",
    "import matplotlib.pyplot as plt\n",
    "from matplotlib.pyplot import figure\n",
    "import cv2\n",
    "from PIL import Image\n",
    "from pylab import rcParams\n",
    "rcParams['figure.figsize'] = 5, 5\n",
    "import tqdm\n",
    "from numpy import moveaxis\n",
    "import scipy.ndimage\n",
    "from IPython.display import clear_output\n",
    "import time\n",
    "from mss.linux import MSS as mss\n",
    "import mss.tools\n",
    "\n",
    "animals= [\"chicken\", \"pig\", \"panda\", \"terrain\"]"
   ]
  },
  {
   "cell_type": "code",
   "execution_count": 18,
   "metadata": {},
   "outputs": [],
   "source": [
    "def screen_cap(top = 0, left = 0, width = 650, height = 480):\n",
    "    mon = {\"top\": top, \"left\": left, \"width\": width, \"height\": height}\n",
    "    sct = mss.mss()\n",
    "    img = np.array(sct.grab(mon))[...,:3]\n",
    "#     img = cv2.cvtColor(img, cv2.COLOR_BGR2RGB)\n",
    "    sct.close()\n",
    "    return img"
   ]
  },
  {
   "cell_type": "code",
   "execution_count": 19,
   "metadata": {},
   "outputs": [
    {
     "data": {
      "text/plain": [
       "Net(\n",
       "  (conv1): Conv2d(3, 7, kernel_size=(5, 5), stride=(1, 1))\n",
       "  (pool): MaxPool2d(kernel_size=3, stride=3, padding=0, dilation=1, ceil_mode=False)\n",
       "  (dropout): Dropout(p=0.5, inplace=False)\n",
       "  (conv2): Conv2d(7, 10, kernel_size=(5, 5), stride=(1, 1))\n",
       "  (fc1): Linear(in_features=90, out_features=60, bias=True)\n",
       "  (fc2): Linear(in_features=60, out_features=30, bias=True)\n",
       "  (fc3): Linear(in_features=30, out_features=4, bias=True)\n",
       ")"
      ]
     },
     "execution_count": 19,
     "metadata": {},
     "output_type": "execute_result"
    }
   ],
   "source": [
    "class Net(nn.Module):\n",
    "    def __init__(self):\n",
    "        super(Net, self).__init__()\n",
    "        self.conv1 = nn.Conv2d(3, 7, 5)\n",
    "        self.pool = nn.MaxPool2d(3, 3)\n",
    "        \n",
    "        self.dropout = nn.Dropout(p=0.5)\n",
    "        self.conv2 = nn.Conv2d(7, 10, 5)\n",
    "        self.fc1 = nn.Linear(90, 60)\n",
    "        self.fc2 = nn.Linear(60, 30)\n",
    "        self.fc3 = nn.Linear(30, 4)\n",
    "\n",
    "    def forward(self, x):\n",
    "        x = self.pool(F.relu(self.conv1(x)))\n",
    "        x = self.pool(F.relu(self.conv2(x)))\n",
    "        x = x.view(x.size(0), -1)\n",
    "        x = F.relu(self.fc1(x))\n",
    "        x = F.relu(self.fc2(x))\n",
    "        x = self.fc3(x)\n",
    "        return x\n",
    "    \n",
    "hunter = Net()\n",
    "hunter.load_state_dict(torch.load(\"hunter.pt\"))\n",
    "hunter.eval()"
   ]
  },
  {
   "cell_type": "code",
   "execution_count": 20,
   "metadata": {},
   "outputs": [],
   "source": [
    "def generate_heatmap_numpy(input_np_arr, model, kernel_size, stride, thresh_prob, label):\n",
    "    image = input_np_arr\n",
    "    width, height = image.shape[1], image.shape[0]\n",
    "    #setting the output image width and height\n",
    "    output_height = int(np.ceil((height-kernel_size)/stride))\n",
    "    output_width = int(np.ceil((width-kernel_size)/stride))\n",
    "    #create a white image of sizes we defined\n",
    "    heatmap = np.zeros((output_height, output_width))\n",
    "    for h in range(0, height):\n",
    "        for w in range(0, width):\n",
    "            h_start = h*stride\n",
    "            w_start = w*stride\n",
    "            h_end = min(height, h_start + kernel_size)\n",
    "            w_end = min(width, w_start + kernel_size)\n",
    "            if (w_end) >= width or (h_end) >= height:\n",
    "                continue\n",
    "            np_slice = image[h_start:h_end, w_start:w_end, :]\n",
    "            if 0 in np_slice.shape:\n",
    "                continue\n",
    "            np_slice = cv2.resize(np_slice, (50,50))\n",
    "            image_moveaxis =  np.moveaxis(np_slice, 2, 0)    \n",
    "            sweet_tensor =  torch.from_numpy(image_moveaxis).unsqueeze(0).float()\n",
    "            output = model(sweet_tensor).flatten()\n",
    "            output = torch.softmax(output, dim = 0)[label].item()\n",
    "            if  output > thresh_prob:\n",
    "                heatmap[h,w] = output  # mult\n",
    "            else:\n",
    "                heatmap[h,w] =  0 \n",
    "    return heatmap"
   ]
  },
  {
   "cell_type": "code",
   "execution_count": 23,
   "metadata": {},
   "outputs": [],
   "source": [
    "def look_for_animals_and_save_image(input_np_arr, model, kernel_size, stride, thresh_prob, label, folder,  filename  ):\n",
    "    image = input_np_arr\n",
    "    width, height = image.shape[1], image.shape[0]\n",
    "\n",
    "    for h in range(0, height):\n",
    "        for w in range(0, width):\n",
    "            h_start = h*stride\n",
    "            w_start = w*stride\n",
    "            h_end = min(height, h_start + kernel_size)\n",
    "            w_end = min(width, w_start + kernel_size)\n",
    "            if (w_end) >= width or (h_end) >= height:\n",
    "                continue\n",
    "            np_slice = image[h_start:h_end, w_start:w_end, :]\n",
    "            if 0 in np_slice.shape:\n",
    "                continue\n",
    "            np_slice = cv2.resize(np_slice, (50,50))\n",
    "            image_moveaxis =  np.moveaxis(np_slice, 2, 0)    \n",
    "            sweet_tensor =  torch.from_numpy(image_moveaxis).unsqueeze(0).float()\n",
    "            output = model(sweet_tensor).flatten()\n",
    "            output = torch.softmax(output, dim = 0)[label].item()\n",
    "            if  output > thresh_prob:\n",
    "                \n",
    "                filename = folder + str(int(round(time.time(), 2)*100)) + \"_\" + filename\n",
    "                time.sleep(0.2)\n",
    "                cv2.imwrite(filename, np_slice)\n",
    "                print(\"saved --  \", filename)\n",
    "            \n",
    "            else:\n",
    "                pass \n",
    "   "
   ]
  },
  {
   "cell_type": "code",
   "execution_count": 22,
   "metadata": {},
   "outputs": [],
   "source": [
    " def detect_animal_numpy(model, image_np_array, kernel_size, stride, label, threshold_prob, purpose = \"heatmap\", folder = \"raw_images/chicken/\", filename_if_save = \"chicken.png\"):\n",
    "    \n",
    "    im = image_np_array\n",
    "    \n",
    "    if purpose == \"heatmap\":\n",
    "        \n",
    "        heatmap = generate_heatmap_numpy(im, model, kernel_size, stride, threshold_prob, label)\n",
    "\n",
    "        heat_shape = im.shape[:-1][::-1]\n",
    "        heatmap = cv2.resize(heatmap,heat_shape).astype(np.float32)\n",
    "        heatmap = np.stack((heatmap*0, heatmap*0, heatmap*150), axis=-1)  ## force convert image to rgb    \n",
    "        fin = cv2.add(im.astype(np.float32),heatmap)\n",
    "        m = fin.astype(np.uint8)\n",
    "\n",
    "\n",
    "        return m\n",
    "    else:\n",
    "        \n",
    "         look_for_animals_and_save_image(im, model, kernel_size, stride, threshold_prob, label, filename = filename_if_save, folder = folder)\n",
    "         "
   ]
  },
  {
   "cell_type": "code",
   "execution_count": 1,
   "metadata": {},
   "outputs": [
    {
     "name": "stdout",
     "output_type": "stream",
     "text": [
      "end\n"
     ]
    }
   ],
   "source": [
    "while True:\n",
    "    \n",
    "    try:\n",
    "        start = time.time()\n",
    "        frame = screen_cap(top= 140, height = 410)\n",
    "        frame2 = cv2.resize(frame, (int(frame.shape[1]/4), int(frame.shape[0]/4)))\n",
    "        frame2 = detect_animal_numpy(hunter,frame2, 40, 15, 2, 0.95,  purpose = \"collect_images\", folder = \"raw_images/dummy/\", filename_if_save = \"panda.png\")\n",
    "    \n",
    "        time_taken = time.time() - start\n",
    "\n",
    "        print(int(1/time_taken), \" FPS\")\n",
    "        clear_output(wait = True)\n",
    "    except:\n",
    "        print(\"end\")\n",
    "        break\n"
   ]
  }
 ],
 "metadata": {
  "kernelspec": {
   "display_name": "Python 3",
   "language": "python",
   "name": "python3"
  },
  "language_info": {
   "codemirror_mode": {
    "name": "ipython",
    "version": 3
   },
   "file_extension": ".py",
   "mimetype": "text/x-python",
   "name": "python",
   "nbconvert_exporter": "python",
   "pygments_lexer": "ipython3",
   "version": "3.7.3"
  }
 },
 "nbformat": 4,
 "nbformat_minor": 2
}
